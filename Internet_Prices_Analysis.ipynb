{
 "cells": [
  {
   "cell_type": "markdown",
   "metadata": {},
   "source": [
    "# Internet Prices Analysis"
   ]
  },
  {
   "cell_type": "code",
   "execution_count": 1,
   "metadata": {},
   "outputs": [],
   "source": [
    "import seaborn as sns\n",
    "import numpy as np \n",
    "import pandas as pd"
   ]
  },
  {
   "cell_type": "code",
   "execution_count": 2,
   "metadata": {},
   "outputs": [],
   "source": [
    "import os\n",
    "for dirname, _, filenames in os.walk('/kaggle/input'):\n",
    "    for filename in filenames:\n",
    "        print(os.path.join(dirname, filename))"
   ]
  },
  {
   "cell_type": "code",
   "execution_count": 30,
   "metadata": {},
   "outputs": [],
   "source": [
    "df = pd.read_csv('Downloads/cities.csv')"
   ]
  },
  {
   "cell_type": "code",
   "execution_count": 31,
   "metadata": {},
   "outputs": [],
   "source": [
    "df.rename({' \"Region\"':'Region', ' \"Country\"':'Country', ' \"InternetPrice\"':'InternetPrice' }, inplace=True, axis=1)"
   ]
  },
  {
   "cell_type": "code",
   "execution_count": 32,
   "metadata": {},
   "outputs": [
    {
     "data": {
      "text/html": [
       "<div>\n",
       "<style scoped>\n",
       "    .dataframe tbody tr th:only-of-type {\n",
       "        vertical-align: middle;\n",
       "    }\n",
       "\n",
       "    .dataframe tbody tr th {\n",
       "        vertical-align: top;\n",
       "    }\n",
       "\n",
       "    .dataframe thead th {\n",
       "        text-align: right;\n",
       "    }\n",
       "</style>\n",
       "<table border=\"1\" class=\"dataframe\">\n",
       "  <thead>\n",
       "    <tr style=\"text-align: right;\">\n",
       "      <th></th>\n",
       "      <th>City</th>\n",
       "      <th>Region</th>\n",
       "      <th>Country</th>\n",
       "      <th>InternetPrice</th>\n",
       "    </tr>\n",
       "  </thead>\n",
       "  <tbody>\n",
       "    <tr>\n",
       "      <th>0</th>\n",
       "      <td>New York City</td>\n",
       "      <td>\"New York\"</td>\n",
       "      <td>\"United States of America\"</td>\n",
       "      <td>66.441395</td>\n",
       "    </tr>\n",
       "    <tr>\n",
       "      <th>1</th>\n",
       "      <td>Washington, D.C.</td>\n",
       "      <td>\"District of Columbia\"</td>\n",
       "      <td>\"United States of America\"</td>\n",
       "      <td>60.590455</td>\n",
       "    </tr>\n",
       "    <tr>\n",
       "      <th>2</th>\n",
       "      <td>San Francisco</td>\n",
       "      <td>\"California\"</td>\n",
       "      <td>\"United States of America\"</td>\n",
       "      <td>68.988824</td>\n",
       "    </tr>\n",
       "    <tr>\n",
       "      <th>3</th>\n",
       "      <td>Berlin</td>\n",
       "      <td>\"\"</td>\n",
       "      <td>\"Germany\"</td>\n",
       "      <td>35.827084</td>\n",
       "    </tr>\n",
       "    <tr>\n",
       "      <th>4</th>\n",
       "      <td>Los Angeles</td>\n",
       "      <td>\"California\"</td>\n",
       "      <td>\"United States of America\"</td>\n",
       "      <td>66.690222</td>\n",
       "    </tr>\n",
       "  </tbody>\n",
       "</table>\n",
       "</div>"
      ],
      "text/plain": [
       "               City                   Region                      Country  \\\n",
       "0     New York City               \"New York\"   \"United States of America\"   \n",
       "1  Washington, D.C.   \"District of Columbia\"   \"United States of America\"   \n",
       "2     San Francisco             \"California\"   \"United States of America\"   \n",
       "3            Berlin                       \"\"                    \"Germany\"   \n",
       "4       Los Angeles             \"California\"   \"United States of America\"   \n",
       "\n",
       "   InternetPrice  \n",
       "0      66.441395  \n",
       "1      60.590455  \n",
       "2      68.988824  \n",
       "3      35.827084  \n",
       "4      66.690222  "
      ]
     },
     "execution_count": 32,
     "metadata": {},
     "output_type": "execute_result"
    }
   ],
   "source": [
    "df.head()"
   ]
  },
  {
   "cell_type": "code",
   "execution_count": 33,
   "metadata": {},
   "outputs": [
    {
     "data": {
      "text/html": [
       "<div>\n",
       "<style scoped>\n",
       "    .dataframe tbody tr th:only-of-type {\n",
       "        vertical-align: middle;\n",
       "    }\n",
       "\n",
       "    .dataframe tbody tr th {\n",
       "        vertical-align: top;\n",
       "    }\n",
       "\n",
       "    .dataframe thead th {\n",
       "        text-align: right;\n",
       "    }\n",
       "</style>\n",
       "<table border=\"1\" class=\"dataframe\">\n",
       "  <thead>\n",
       "    <tr style=\"text-align: right;\">\n",
       "      <th></th>\n",
       "      <th>InternetPrice</th>\n",
       "    </tr>\n",
       "  </thead>\n",
       "  <tbody>\n",
       "    <tr>\n",
       "      <th>count</th>\n",
       "      <td>519.000000</td>\n",
       "    </tr>\n",
       "    <tr>\n",
       "      <th>mean</th>\n",
       "      <td>39.384011</td>\n",
       "    </tr>\n",
       "    <tr>\n",
       "      <th>std</th>\n",
       "      <td>23.159182</td>\n",
       "    </tr>\n",
       "    <tr>\n",
       "      <th>min</th>\n",
       "      <td>3.896393</td>\n",
       "    </tr>\n",
       "    <tr>\n",
       "      <th>25%</th>\n",
       "      <td>20.101359</td>\n",
       "    </tr>\n",
       "    <tr>\n",
       "      <th>50%</th>\n",
       "      <td>36.404746</td>\n",
       "    </tr>\n",
       "    <tr>\n",
       "      <th>75%</th>\n",
       "      <td>58.826389</td>\n",
       "    </tr>\n",
       "    <tr>\n",
       "      <th>max</th>\n",
       "      <td>112.940326</td>\n",
       "    </tr>\n",
       "  </tbody>\n",
       "</table>\n",
       "</div>"
      ],
      "text/plain": [
       "       InternetPrice\n",
       "count     519.000000\n",
       "mean       39.384011\n",
       "std        23.159182\n",
       "min         3.896393\n",
       "25%        20.101359\n",
       "50%        36.404746\n",
       "75%        58.826389\n",
       "max       112.940326"
      ]
     },
     "execution_count": 33,
     "metadata": {},
     "output_type": "execute_result"
    }
   ],
   "source": [
    "df.describe()"
   ]
  },
  {
   "cell_type": "markdown",
   "metadata": {},
   "source": [
    "# Lowest and Highest price country"
   ]
  },
  {
   "cell_type": "code",
   "execution_count": 34,
   "metadata": {},
   "outputs": [
    {
     "name": "stdout",
     "output_type": "stream",
     "text": [
      "min:\n",
      "         City              Region     Country  InternetPrice\n",
      "431  Ternopil   \"Ternopil Oblast\"   \"Ukraine\"       3.896393\n"
     ]
    }
   ],
   "source": [
    "print('min:')\n",
    "print(df[df['InternetPrice'] == df['InternetPrice'].min()])"
   ]
  },
  {
   "cell_type": "code",
   "execution_count": 35,
   "metadata": {},
   "outputs": [
    {
     "name": "stdout",
     "output_type": "stream",
     "text": [
      "max:\n",
      "       City                   Region                  Country  InternetPrice\n",
      "482  Al Ain   \"Emirate of Abu Dhabi\"   \"United Arab Emirates\"     112.940326 \n",
      "\n"
     ]
    }
   ],
   "source": [
    "print('max:')\n",
    "print(df[df['InternetPrice'] == df['InternetPrice'].max()], \"\\n\")"
   ]
  },
  {
   "cell_type": "markdown",
   "metadata": {},
   "source": [
    "# show histogram of internet prices"
   ]
  },
  {
   "cell_type": "code",
   "execution_count": 41,
   "metadata": {},
   "outputs": [
    {
     "data": {
      "text/plain": [
       "<AxesSubplot:xlabel='InternetPrice', ylabel='Count'>"
      ]
     },
     "execution_count": 41,
     "metadata": {},
     "output_type": "execute_result"
    },
    {
     "data": {
      "image/png": "[encoded data removed]",
      "text/plain": [
       "<Figure size 432x288 with 1 Axes>"
      ]
     },
     "metadata": {
      "needs_background": "light"
     },
     "output_type": "display_data"
    }
   ],
   "source": [
    "sns.histplot(df.InternetPrice)"
   ]
  },
  {
   "cell_type": "code",
   "execution_count": 42,
   "metadata": {},
   "outputs": [],
   "source": [
    "minmax = df.groupby('Country').agg({'InternetPrice': [np.min, np.max]})['InternetPrice']"
   ]
  },
  {
   "cell_type": "code",
   "execution_count": 43,
   "metadata": {},
   "outputs": [
    {
     "data": {
      "text/plain": [
       "<AxesSubplot:xlabel='amin', ylabel='amax'>"
      ]
     },
     "execution_count": 43,
     "metadata": {},
     "output_type": "execute_result"
    },
    {
     "data": {
      "image/png": "[encoded data removed]",
      "text/plain": [
       "<Figure size 432x288 with 1 Axes>"
      ]
     },
     "metadata": {
      "needs_background": "light"
     },
     "output_type": "display_data"
    }
   ],
   "source": [
    "sns.kdeplot(x=minmax['amin'], y=minmax['amax'])"
   ]
  },
  {
   "cell_type": "markdown",
   "metadata": {},
   "source": [
    "# order by largest difference between min and max in a country"
   ]
  },
  {
   "cell_type": "code",
   "execution_count": 44,
   "metadata": {},
   "outputs": [],
   "source": [
    "largest_diff = minmax.loc[(minmax['amax'] - minmax['amin']).sort_values(ascending=False).index]"
   ]
  },
  {
   "cell_type": "code",
   "execution_count": 45,
   "metadata": {},
   "outputs": [
    {
     "data": {
      "text/html": [
       "<div>\n",
       "<style scoped>\n",
       "    .dataframe tbody tr th:only-of-type {\n",
       "        vertical-align: middle;\n",
       "    }\n",
       "\n",
       "    .dataframe tbody tr th {\n",
       "        vertical-align: top;\n",
       "    }\n",
       "\n",
       "    .dataframe thead th {\n",
       "        text-align: right;\n",
       "    }\n",
       "</style>\n",
       "<table border=\"1\" class=\"dataframe\">\n",
       "  <thead>\n",
       "    <tr style=\"text-align: right;\">\n",
       "      <th></th>\n",
       "      <th>amin</th>\n",
       "      <th>amax</th>\n",
       "    </tr>\n",
       "    <tr>\n",
       "      <th>Country</th>\n",
       "      <th></th>\n",
       "      <th></th>\n",
       "    </tr>\n",
       "  </thead>\n",
       "  <tbody>\n",
       "    <tr>\n",
       "      <th>\"United States of America\"</th>\n",
       "      <td>44.350000</td>\n",
       "      <td>109.553333</td>\n",
       "    </tr>\n",
       "    <tr>\n",
       "      <th>\"Egypt\"</th>\n",
       "      <td>13.720764</td>\n",
       "      <td>51.795334</td>\n",
       "    </tr>\n",
       "    <tr>\n",
       "      <th>\"Croatia\"</th>\n",
       "      <td>23.050386</td>\n",
       "      <td>54.885816</td>\n",
       "    </tr>\n",
       "    <tr>\n",
       "      <th>\"Canada\"</th>\n",
       "      <td>42.448409</td>\n",
       "      <td>73.148285</td>\n",
       "    </tr>\n",
       "    <tr>\n",
       "      <th>\"Austria\"</th>\n",
       "      <td>21.291356</td>\n",
       "      <td>43.959559</td>\n",
       "    </tr>\n",
       "    <tr>\n",
       "      <th>...</th>\n",
       "      <td>...</td>\n",
       "      <td>...</td>\n",
       "    </tr>\n",
       "    <tr>\n",
       "      <th>\"Montenegro\"</th>\n",
       "      <td>24.291709</td>\n",
       "      <td>24.291709</td>\n",
       "    </tr>\n",
       "    <tr>\n",
       "      <th>\"Namibia\"</th>\n",
       "      <td>48.159339</td>\n",
       "      <td>48.159339</td>\n",
       "    </tr>\n",
       "    <tr>\n",
       "      <th>\"Nepal\"</th>\n",
       "      <td>17.346450</td>\n",
       "      <td>17.346450</td>\n",
       "    </tr>\n",
       "    <tr>\n",
       "      <th>\"Nicaragua\"</th>\n",
       "      <td>62.548303</td>\n",
       "      <td>62.548303</td>\n",
       "    </tr>\n",
       "    <tr>\n",
       "      <th>\"Albania\"</th>\n",
       "      <td>21.163960</td>\n",
       "      <td>21.163960</td>\n",
       "    </tr>\n",
       "  </tbody>\n",
       "</table>\n",
       "<p>109 rows × 2 columns</p>\n",
       "</div>"
      ],
      "text/plain": [
       "                                  amin        amax\n",
       "Country                                           \n",
       " \"United States of America\"  44.350000  109.553333\n",
       " \"Egypt\"                     13.720764   51.795334\n",
       " \"Croatia\"                   23.050386   54.885816\n",
       " \"Canada\"                    42.448409   73.148285\n",
       " \"Austria\"                   21.291356   43.959559\n",
       "...                                ...         ...\n",
       " \"Montenegro\"                24.291709   24.291709\n",
       " \"Namibia\"                   48.159339   48.159339\n",
       " \"Nepal\"                     17.346450   17.346450\n",
       " \"Nicaragua\"                 62.548303   62.548303\n",
       " \"Albania\"                   21.163960   21.163960\n",
       "\n",
       "[109 rows x 2 columns]"
      ]
     },
     "execution_count": 45,
     "metadata": {},
     "output_type": "execute_result"
    }
   ],
   "source": [
    "largest_diff"
   ]
  },
  {
   "cell_type": "code",
   "execution_count": 46,
   "metadata": {},
   "outputs": [
    {
     "data": {
      "text/html": [
       "<div>\n",
       "<style scoped>\n",
       "    .dataframe tbody tr th:only-of-type {\n",
       "        vertical-align: middle;\n",
       "    }\n",
       "\n",
       "    .dataframe tbody tr th {\n",
       "        vertical-align: top;\n",
       "    }\n",
       "\n",
       "    .dataframe thead th {\n",
       "        text-align: right;\n",
       "    }\n",
       "</style>\n",
       "<table border=\"1\" class=\"dataframe\">\n",
       "  <thead>\n",
       "    <tr style=\"text-align: right;\">\n",
       "      <th></th>\n",
       "      <th>City</th>\n",
       "      <th>Region</th>\n",
       "      <th>Country</th>\n",
       "      <th>InternetPrice</th>\n",
       "    </tr>\n",
       "  </thead>\n",
       "  <tbody>\n",
       "    <tr>\n",
       "      <th>0</th>\n",
       "      <td>New York City</td>\n",
       "      <td>\"New York\"</td>\n",
       "      <td>\"United States of America\"</td>\n",
       "      <td>66.441395</td>\n",
       "    </tr>\n",
       "    <tr>\n",
       "      <th>1</th>\n",
       "      <td>Washington, D.C.</td>\n",
       "      <td>\"District of Columbia\"</td>\n",
       "      <td>\"United States of America\"</td>\n",
       "      <td>60.590455</td>\n",
       "    </tr>\n",
       "    <tr>\n",
       "      <th>2</th>\n",
       "      <td>San Francisco</td>\n",
       "      <td>\"California\"</td>\n",
       "      <td>\"United States of America\"</td>\n",
       "      <td>68.988824</td>\n",
       "    </tr>\n",
       "    <tr>\n",
       "      <th>3</th>\n",
       "      <td>Berlin</td>\n",
       "      <td>\"\"</td>\n",
       "      <td>\"Germany\"</td>\n",
       "      <td>35.827084</td>\n",
       "    </tr>\n",
       "    <tr>\n",
       "      <th>4</th>\n",
       "      <td>Los Angeles</td>\n",
       "      <td>\"California\"</td>\n",
       "      <td>\"United States of America\"</td>\n",
       "      <td>66.690222</td>\n",
       "    </tr>\n",
       "  </tbody>\n",
       "</table>\n",
       "</div>"
      ],
      "text/plain": [
       "               City                   Region                      Country  \\\n",
       "0     New York City               \"New York\"   \"United States of America\"   \n",
       "1  Washington, D.C.   \"District of Columbia\"   \"United States of America\"   \n",
       "2     San Francisco             \"California\"   \"United States of America\"   \n",
       "3            Berlin                       \"\"                    \"Germany\"   \n",
       "4       Los Angeles             \"California\"   \"United States of America\"   \n",
       "\n",
       "   InternetPrice  \n",
       "0      66.441395  \n",
       "1      60.590455  \n",
       "2      68.988824  \n",
       "3      35.827084  \n",
       "4      66.690222  "
      ]
     },
     "execution_count": 46,
     "metadata": {},
     "output_type": "execute_result"
    }
   ],
   "source": [
    "df.head()"
   ]
  },
  {
   "cell_type": "markdown",
   "metadata": {},
   "source": [
    "# show price variance of the top polarized price countries"
   ]
  },
  {
   "cell_type": "code",
   "execution_count": 47,
   "metadata": {},
   "outputs": [],
   "source": [
    "filltered_diff_countries = df[df['Country'].isin(largest_diff[:5].reset_index().Country)]"
   ]
  },
  {
   "cell_type": "code",
   "execution_count": 48,
   "metadata": {},
   "outputs": [
    {
     "data": {
      "text/plain": [
       "<AxesSubplot:xlabel='InternetPrice', ylabel='Country'>"
      ]
     },
     "execution_count": 48,
     "metadata": {},
     "output_type": "execute_result"
    },
    {
     "data": {
      "image/png": "[encoded data removed]",
      "text/plain": [
       "<Figure size 432x288 with 1 Axes>"
      ]
     },
     "metadata": {
      "needs_background": "light"
     },
     "output_type": "display_data"
    }
   ],
   "source": [
    "sns.boxplot(y=\"Country\", x=\"InternetPrice\", data=filltered_diff_countries, orient='h')"
   ]
  }
 ],
 "metadata": {
  "kernelspec": {
   "display_name": "Python 3",
   "language": "python",
   "name": "python3"
  },
  "language_info": {
   "codemirror_mode": {
    "name": "ipython",
    "version": 3
   },
   "file_extension": ".py",
   "mimetype": "text/x-python",
   "name": "python",
   "nbconvert_exporter": "python",
   "pygments_lexer": "ipython3",
   "version": "3.8.5"
  }
 },
 "nbformat": 4,
 "nbformat_minor": 4
}
